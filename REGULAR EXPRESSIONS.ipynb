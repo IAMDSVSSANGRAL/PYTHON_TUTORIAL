{
 "cells": [
  {
   "cell_type": "markdown",
   "id": "0f496c91",
   "metadata": {},
   "source": [
    "# Introduction to Regex\n",
    "A regular expression (regex) is a sequence of characters that define a search pattern.\n",
    "Use cases include validation, searching, and extracting text."
   ]
  },
  {
   "cell_type": "code",
   "execution_count": 100,
   "id": "ce057d94",
   "metadata": {},
   "outputs": [],
   "source": [
    "#importing necessary liabrary\n",
    "import re"
   ]
  },
  {
   "cell_type": "markdown",
   "id": "dcc49e7a",
   "metadata": {},
   "source": [
    "### Concept of escape sequence"
   ]
  },
  {
   "cell_type": "markdown",
   "id": "5bf0c3d9",
   "metadata": {},
   "source": [
    "Escape sequences are combinations of characters used to represent characters that cannot be typed or displayed directly. They are preceded by a backslash (\\) and are interpreted specially by the language or system. Escape sequences are commonly used in programming languages, text editors, and command-line interfaces to represent special characters, control characters, and non-printable characters.\n",
    "\n",
    "\n",
    "In Python and many other programming languages, escape sequences are used in string literals to represent characters such as newline (\\n), tab (\\t), backspace (\\b), and others.\n",
    "\n",
    "\n",
    "Here are some common escape sequences used in Python:\n",
    "\n",
    "\\n: Newline - Moves the cursor to the beginning of the next line.\n",
    "\n",
    "\\t: Tab - Inserts a tab character.\n",
    "\n",
    "\\r: Carriage Return - Moves the cursor to the beginning of the current line.\n",
    "\n",
    "\\b: Backspace - Removes the previous character.\n",
    "\n",
    "\\\\: Backslash - Inserts a literal backslash.\n",
    "\n",
    "\\': Single Quote - Inserts a literal single quote (useful in single-quoted strings).\n",
    "\n",
    "\\\": Double Quote - Inserts a literal double quote (useful in double-quoted strings).\n",
    "\n",
    "\\xhh: Hexadecimal Escape - Inserts the character with the hexadecimal ASCII value hh.\n",
    "\n",
    "\\uhhhh or \\Uhhhhhhhh: Unicode Escape - Inserts the Unicode character with the hexadecimal code point hhhh or hhhhhhhh.\n"
   ]
  },
  {
   "cell_type": "code",
   "execution_count": 182,
   "id": "8540dca9",
   "metadata": {},
   "outputs": [
    {
     "name": "stdout",
     "output_type": "stream",
     "text": [
      "\\\n"
     ]
    }
   ],
   "source": [
    "print(\"\\\\\")"
   ]
  },
  {
   "cell_type": "code",
   "execution_count": 186,
   "id": "24af5f4f",
   "metadata": {},
   "outputs": [
    {
     "name": "stdout",
     "output_type": "stream",
     "text": [
      "I'D\n"
     ]
    }
   ],
   "source": [
    "print(\"I'D\")"
   ]
  },
  {
   "cell_type": "code",
   "execution_count": 194,
   "id": "53b92fdc",
   "metadata": {},
   "outputs": [
    {
     "name": "stdout",
     "output_type": "stream",
     "text": [
      "\t\t\tTab\n"
     ]
    }
   ],
   "source": [
    "print('\\t\\t\\tTab')"
   ]
  },
  {
   "cell_type": "code",
   "execution_count": 105,
   "id": "528b78c3",
   "metadata": {},
   "outputs": [
    {
     "name": "stdout",
     "output_type": "stream",
     "text": [
      "Name\tAge\tLocation\n",
      "Alice\t30\tNew York\n",
      "Bob\t25\tLos Angeles\n"
     ]
    }
   ],
   "source": [
    "print('Name\\tAge\\tLocation')\n",
    "print('Alice\\t30\\tNew York')\n",
    "print('Bob\\t25\\tLos Angeles')\n"
   ]
  },
  {
   "cell_type": "code",
   "execution_count": 112,
   "id": "85fb8e0b",
   "metadata": {},
   "outputs": [
    {
     "name": "stdout",
     "output_type": "stream",
     "text": [
      "This is a backslash: \\\n"
     ]
    }
   ],
   "source": [
    "print(\"This is a backslash: \\\\\")"
   ]
  },
  {
   "cell_type": "code",
   "execution_count": 114,
   "id": "07022003",
   "metadata": {},
   "outputs": [
    {
     "name": "stdout",
     "output_type": "stream",
     "text": [
      "It's a beautiful day\n"
     ]
    }
   ],
   "source": [
    "print('It\\'s a beautiful day')"
   ]
  },
  {
   "cell_type": "code",
   "execution_count": 117,
   "id": "16ed1bff",
   "metadata": {},
   "outputs": [
    {
     "name": "stdout",
     "output_type": "stream",
     "text": [
      "She said, \"Hello!\"\n"
     ]
    }
   ],
   "source": [
    "print(\"She said, \\\"Hello!\\\"\")"
   ]
  },
  {
   "cell_type": "code",
   "execution_count": 118,
   "id": "dc1c6cc6",
   "metadata": {},
   "outputs": [
    {
     "name": "stdout",
     "output_type": "stream",
     "text": [
      "Hello\n",
      "World\n"
     ]
    }
   ],
   "source": [
    "print(\"Hello\\nWorld\")"
   ]
  },
  {
   "cell_type": "code",
   "execution_count": 195,
   "id": "886ed06c",
   "metadata": {},
   "outputs": [
    {
     "name": "stdout",
     "output_type": "stream",
     "text": [
      "vishal\n"
     ]
    }
   ],
   "source": [
    "print(\"Hello\\rWorld\\rvishal\")"
   ]
  },
  {
   "cell_type": "code",
   "execution_count": 123,
   "id": "3b78431b",
   "metadata": {},
   "outputs": [
    {
     "name": "stdout",
     "output_type": "stream",
     "text": [
      "Hello\bWorld\n"
     ]
    }
   ],
   "source": [
    "print(\"Hello\\bWorld\")"
   ]
  },
  {
   "cell_type": "code",
   "execution_count": 132,
   "id": "3061cd8b",
   "metadata": {},
   "outputs": [
    {
     "name": "stdout",
     "output_type": "stream",
     "text": [
      "DBC\n"
     ]
    }
   ],
   "source": [
    "print(\"\\x44\\x42\\x43\")"
   ]
  },
  {
   "cell_type": "markdown",
   "id": "7922365f",
   "metadata": {},
   "source": [
    "FOR UNICODE HEXADECIMAL CODE USE THESE:\n",
    "https://www.rapidtables.com/code/text/unicode-characters.html"
   ]
  },
  {
   "cell_type": "code",
   "execution_count": 165,
   "id": "312e553a",
   "metadata": {},
   "outputs": [
    {
     "ename": "SyntaxError",
     "evalue": "(unicode error) 'unicodeescape' codec can't decode bytes in position 0-1: truncated \\UXXXXXXXX escape (2257064305.py, line 1)",
     "output_type": "error",
     "traceback": [
      "\u001b[0;36m  Cell \u001b[0;32mIn[165], line 1\u001b[0;36m\u001b[0m\n\u001b[0;31m    print(\"\\U+2192\")\u001b[0m\n\u001b[0m                   ^\u001b[0m\n\u001b[0;31mSyntaxError\u001b[0m\u001b[0;31m:\u001b[0m (unicode error) 'unicodeescape' codec can't decode bytes in position 0-1: truncated \\UXXXXXXXX escape\n"
     ]
    }
   ],
   "source": [
    "print(\"\\U+2192\")\n"
   ]
  },
  {
   "cell_type": "code",
   "execution_count": 166,
   "id": "f37ef89e",
   "metadata": {},
   "outputs": [
    {
     "name": "stdout",
     "output_type": "stream",
     "text": [
      "❤\n"
     ]
    }
   ],
   "source": [
    "print(\"\\U00002764\")\n"
   ]
  },
  {
   "cell_type": "markdown",
   "id": "11a53365",
   "metadata": {},
   "source": [
    "### Types of strings:"
   ]
  },
  {
   "cell_type": "code",
   "execution_count": 169,
   "id": "f96c180c",
   "metadata": {},
   "outputs": [
    {
     "name": "stdout",
     "output_type": "stream",
     "text": [
      "Café\n"
     ]
    }
   ],
   "source": [
    "unicode_string = \"Café\"  # Unicode string\n",
    "print(unicode_string)"
   ]
  },
  {
   "cell_type": "code",
   "execution_count": 170,
   "id": "3cf23a63",
   "metadata": {},
   "outputs": [
    {
     "name": "stdout",
     "output_type": "stream",
     "text": [
      "b'binary data'\n"
     ]
    }
   ],
   "source": [
    "byte_string = b'binary data'\n",
    "print(byte_string)"
   ]
  },
  {
   "cell_type": "code",
   "execution_count": 172,
   "id": "ea35249c",
   "metadata": {},
   "outputs": [
    {
     "name": "stdout",
     "output_type": "stream",
     "text": [
      "Name: Alice, Age: 30\n"
     ]
    }
   ],
   "source": [
    "name = \"Alice\"\n",
    "age = 30\n",
    "formatted_string = f\"Name: {name}, Age: {age}\"\n",
    "print(formatted_string)"
   ]
  },
  {
   "cell_type": "code",
   "execution_count": 174,
   "id": "8df4a924",
   "metadata": {},
   "outputs": [
    {
     "name": "stdout",
     "output_type": "stream",
     "text": [
      "bytearray(b'hello')\n"
     ]
    }
   ],
   "source": [
    "byte_array = bytearray(b'hello')\n",
    "print(byte_array)"
   ]
  },
  {
   "cell_type": "code",
   "execution_count": 175,
   "id": "20bd1287",
   "metadata": {},
   "outputs": [
    {
     "name": "stdout",
     "output_type": "stream",
     "text": [
      "Hello\n"
     ]
    }
   ],
   "source": [
    "mutable_string = list(\"hello\")\n",
    "mutable_string[0] = 'H'  # Modify the first character\n",
    "mutable_string = ''.join(mutable_string)  # Convert back to string\n",
    "print(mutable_string)"
   ]
  },
  {
   "cell_type": "code",
   "execution_count": 167,
   "id": "a941538c",
   "metadata": {},
   "outputs": [],
   "source": [
    "single_quoted = 'Hello'\n",
    "double_quoted = \"World\"\n",
    "triple_quoted = '''This is a \n",
    "                  multi-line string'''"
   ]
  },
  {
   "cell_type": "code",
   "execution_count": 178,
   "id": "617cca9c",
   "metadata": {},
   "outputs": [
    {
     "name": "stdout",
     "output_type": "stream",
     "text": [
      "\n"
     ]
    }
   ],
   "source": [
    "empty_string = ''\n",
    "print(empty_string)"
   ]
  },
  {
   "cell_type": "code",
   "execution_count": 179,
   "id": "a518c831",
   "metadata": {},
   "outputs": [
    {
     "name": "stdout",
     "output_type": "stream",
     "text": [
      "C:\\Users\\Name\n"
     ]
    }
   ],
   "source": [
    "print(r'C:\\Users\\Name') # raw stirng"
   ]
  },
  {
   "cell_type": "code",
   "execution_count": 7,
   "id": "e779aeac",
   "metadata": {},
   "outputs": [
    {
     "name": "stdout",
     "output_type": "stream",
     "text": [
      "\\tTab\n"
     ]
    }
   ],
   "source": [
    "#example of raw string -  r is used to denote raw string \n",
    "print(r'\\tTab')"
   ]
  },
  {
   "cell_type": "markdown",
   "id": "8701d3c2",
   "metadata": {},
   "source": [
    "In Python, re.compile() is a function provided by the re module, which is used for working with regular expressions (regex). The re.compile() function compiles a regular expression pattern into a regex object, which can then be used for various operations such as searching, matching, and replacing text within strings.\n",
    "\n",
    "\n",
    "Here's how re.compile() works:\n",
    "\n",
    "\n",
    "Compilation: The re.compile() function takes a regex pattern as its first argument and compiles it into a regex object.\n",
    "\n",
    "\n",
    "Regex Object: The compiled regex object represents the regex pattern, and it can be reused for multiple string operations without having to recompile the pattern each time.\n",
    "\n",
    "\n",
    "Efficiency: Compiling the regex pattern with re.compile() can improve the performance of regex operations, especially if the same pattern is used multiple times in a program.\n",
    "\n",
    "\n",
    "Flags: Optional flags can be provided as a second argument to re.compile() to modify the behavior of the regex pattern, such as case-insensitive matching, multiline matching, and others.\n",
    "\n",
    "\n",
    "Usage: Once the regex object is created with re.compile(), it can be used with methods like search(), match(), findall(), finditer(), and sub() to perform various string operations based on the regex pattern.\n"
   ]
  },
  {
   "cell_type": "code",
   "execution_count": 10,
   "id": "9db2c524",
   "metadata": {},
   "outputs": [],
   "source": [
    "text_to_search = '''\n",
    "abcdefghijklmnopqurtuvwxyz\n",
    "ABCDEFGHIJKLMNOPQRSTUVWXYZ\n",
    "1234567890\n",
    "\n",
    "Ha HaHa\n",
    "\n",
    "MetaCharacters (Need to be escaped):\n",
    ". ^ $ * + ? { } [ ] \\ | ( )\n",
    "\n",
    "havinsoh.com\n",
    "\n",
    "321-555-4321\n",
    "123.555.1234\n",
    "123*555*1234\n",
    "800-555-1234\n",
    "900-555-1234\n",
    "\n",
    "Mr. Vishal\n",
    "Mr Smith\n",
    "Ms Davis\n",
    "Mrs. Robinson\n",
    "Mr. T\n",
    "\n",
    "cat\n",
    "mat\n",
    "bat\n",
    "pat\n",
    "flat\n",
    "fat\n",
    "'''"
   ]
  },
  {
   "cell_type": "markdown",
   "id": "2005a33b",
   "metadata": {},
   "source": [
    ".       - Any Character Except New Line\n",
    "\n",
    "\\d      - Digit (0-9)\n",
    "\n",
    "\\D      - Not a Digit (0-9)\n",
    "\n",
    "\\w      - Word Character (a-z, A-Z, 0-9, _)\n",
    "\n",
    "\\W      - Not a Word Character\n",
    "\n",
    "\\s      - Whitespace (space, tab, newline)\n",
    "\n",
    "\\S      - Not Whitespace (space, tab, newline)\n",
    "\n",
    "\n",
    "\\b      - Word Boundary\n",
    "\n",
    "\\B      - Not a Word Boundary\n",
    "\n",
    "^       - Beginning of a String\n",
    "\n",
    "$       - End of a String\n",
    "\n",
    "\n",
    "[]      - Matches Characters in brackets\n",
    "\n",
    "[^ ]    - Matches Characters NOT in brackets\n",
    "\n",
    "|       - Either Or\n",
    "\n",
    "( )     - Group\n",
    "\n",
    "\n",
    "Quantifiers:\n",
    "\n",
    "*       - 0 or More\n",
    "\n",
    "+       - 1 or More\n",
    "\n",
    "?       - 0 or One\n",
    "\n",
    "{3}     - Exact Number\n",
    "\n",
    "{3,4}   - Range of Numbers (Minimum, Maximum)"
   ]
  },
  {
   "cell_type": "code",
   "execution_count": 211,
   "id": "2db54d6f",
   "metadata": {},
   "outputs": [
    {
     "name": "stdout",
     "output_type": "stream",
     "text": [
      "<callable_iterator object at 0x7f9b4a7f9180>\n",
      "<re.Match object; span=(1, 4), match='abc'>\n"
     ]
    }
   ],
   "source": [
    "pattern = re.compile(r'abc')\n",
    "matches = pattern.finditer(text_to_search)\n",
    "print(matches)\n",
    "for match in matches:\n",
    "    print(match)"
   ]
  },
  {
   "cell_type": "code",
   "execution_count": 212,
   "id": "4ea33ed8",
   "metadata": {},
   "outputs": [
    {
     "name": "stdout",
     "output_type": "stream",
     "text": [
      "abc\n"
     ]
    }
   ],
   "source": [
    "print(text_to_search[1:4])"
   ]
  },
  {
   "cell_type": "code",
   "execution_count": 214,
   "id": "b5f488fa",
   "metadata": {},
   "outputs": [
    {
     "name": "stdout",
     "output_type": "stream",
     "text": [
      "<re.Match object; span=(1, 2), match='a'>\n",
      "<re.Match object; span=(2, 3), match='b'>\n",
      "<re.Match object; span=(3, 4), match='c'>\n",
      "<re.Match object; span=(4, 5), match='d'>\n",
      "<re.Match object; span=(5, 6), match='e'>\n",
      "<re.Match object; span=(6, 7), match='f'>\n",
      "<re.Match object; span=(7, 8), match='g'>\n",
      "<re.Match object; span=(8, 9), match='h'>\n",
      "<re.Match object; span=(9, 10), match='i'>\n",
      "<re.Match object; span=(10, 11), match='j'>\n",
      "<re.Match object; span=(11, 12), match='k'>\n",
      "<re.Match object; span=(12, 13), match='l'>\n",
      "<re.Match object; span=(13, 14), match='m'>\n",
      "<re.Match object; span=(14, 15), match='n'>\n",
      "<re.Match object; span=(15, 16), match='o'>\n",
      "<re.Match object; span=(16, 17), match='p'>\n",
      "<re.Match object; span=(17, 18), match='q'>\n",
      "<re.Match object; span=(18, 19), match='u'>\n",
      "<re.Match object; span=(19, 20), match='r'>\n",
      "<re.Match object; span=(20, 21), match='t'>\n",
      "<re.Match object; span=(21, 22), match='u'>\n",
      "<re.Match object; span=(22, 23), match='v'>\n",
      "<re.Match object; span=(23, 24), match='w'>\n",
      "<re.Match object; span=(24, 25), match='x'>\n",
      "<re.Match object; span=(25, 26), match='y'>\n",
      "<re.Match object; span=(26, 27), match='z'>\n",
      "<re.Match object; span=(28, 29), match='A'>\n",
      "<re.Match object; span=(29, 30), match='B'>\n",
      "<re.Match object; span=(30, 31), match='C'>\n",
      "<re.Match object; span=(31, 32), match='D'>\n",
      "<re.Match object; span=(32, 33), match='E'>\n",
      "<re.Match object; span=(33, 34), match='F'>\n",
      "<re.Match object; span=(34, 35), match='G'>\n",
      "<re.Match object; span=(35, 36), match='H'>\n",
      "<re.Match object; span=(36, 37), match='I'>\n",
      "<re.Match object; span=(37, 38), match='J'>\n",
      "<re.Match object; span=(38, 39), match='K'>\n",
      "<re.Match object; span=(39, 40), match='L'>\n",
      "<re.Match object; span=(40, 41), match='M'>\n",
      "<re.Match object; span=(41, 42), match='N'>\n",
      "<re.Match object; span=(42, 43), match='O'>\n",
      "<re.Match object; span=(43, 44), match='P'>\n",
      "<re.Match object; span=(44, 45), match='Q'>\n",
      "<re.Match object; span=(45, 46), match='R'>\n",
      "<re.Match object; span=(46, 47), match='S'>\n",
      "<re.Match object; span=(47, 48), match='T'>\n",
      "<re.Match object; span=(48, 49), match='U'>\n",
      "<re.Match object; span=(49, 50), match='V'>\n",
      "<re.Match object; span=(50, 51), match='W'>\n",
      "<re.Match object; span=(51, 52), match='X'>\n",
      "<re.Match object; span=(52, 53), match='Y'>\n",
      "<re.Match object; span=(53, 54), match='Z'>\n",
      "<re.Match object; span=(55, 56), match='1'>\n",
      "<re.Match object; span=(56, 57), match='2'>\n",
      "<re.Match object; span=(57, 58), match='3'>\n",
      "<re.Match object; span=(58, 59), match='4'>\n",
      "<re.Match object; span=(59, 60), match='5'>\n",
      "<re.Match object; span=(60, 61), match='6'>\n",
      "<re.Match object; span=(61, 62), match='7'>\n",
      "<re.Match object; span=(62, 63), match='8'>\n",
      "<re.Match object; span=(63, 64), match='9'>\n",
      "<re.Match object; span=(64, 65), match='0'>\n",
      "<re.Match object; span=(67, 68), match='H'>\n",
      "<re.Match object; span=(68, 69), match='a'>\n",
      "<re.Match object; span=(69, 70), match=' '>\n",
      "<re.Match object; span=(70, 71), match='H'>\n",
      "<re.Match object; span=(71, 72), match='a'>\n",
      "<re.Match object; span=(72, 73), match='H'>\n",
      "<re.Match object; span=(73, 74), match='a'>\n",
      "<re.Match object; span=(76, 77), match='M'>\n",
      "<re.Match object; span=(77, 78), match='e'>\n",
      "<re.Match object; span=(78, 79), match='t'>\n",
      "<re.Match object; span=(79, 80), match='a'>\n",
      "<re.Match object; span=(80, 81), match='C'>\n",
      "<re.Match object; span=(81, 82), match='h'>\n",
      "<re.Match object; span=(82, 83), match='a'>\n",
      "<re.Match object; span=(83, 84), match='r'>\n",
      "<re.Match object; span=(84, 85), match='a'>\n",
      "<re.Match object; span=(85, 86), match='c'>\n",
      "<re.Match object; span=(86, 87), match='t'>\n",
      "<re.Match object; span=(87, 88), match='e'>\n",
      "<re.Match object; span=(88, 89), match='r'>\n",
      "<re.Match object; span=(89, 90), match='s'>\n",
      "<re.Match object; span=(90, 91), match=' '>\n",
      "<re.Match object; span=(91, 92), match='('>\n",
      "<re.Match object; span=(92, 93), match='N'>\n",
      "<re.Match object; span=(93, 94), match='e'>\n",
      "<re.Match object; span=(94, 95), match='e'>\n",
      "<re.Match object; span=(95, 96), match='d'>\n",
      "<re.Match object; span=(96, 97), match=' '>\n",
      "<re.Match object; span=(97, 98), match='t'>\n",
      "<re.Match object; span=(98, 99), match='o'>\n",
      "<re.Match object; span=(99, 100), match=' '>\n",
      "<re.Match object; span=(100, 101), match='b'>\n",
      "<re.Match object; span=(101, 102), match='e'>\n",
      "<re.Match object; span=(102, 103), match=' '>\n",
      "<re.Match object; span=(103, 104), match='e'>\n",
      "<re.Match object; span=(104, 105), match='s'>\n",
      "<re.Match object; span=(105, 106), match='c'>\n",
      "<re.Match object; span=(106, 107), match='a'>\n",
      "<re.Match object; span=(107, 108), match='p'>\n",
      "<re.Match object; span=(108, 109), match='e'>\n",
      "<re.Match object; span=(109, 110), match='d'>\n",
      "<re.Match object; span=(110, 111), match=')'>\n",
      "<re.Match object; span=(111, 112), match=':'>\n",
      "<re.Match object; span=(113, 114), match='.'>\n",
      "<re.Match object; span=(114, 115), match=' '>\n",
      "<re.Match object; span=(115, 116), match='^'>\n",
      "<re.Match object; span=(116, 117), match=' '>\n",
      "<re.Match object; span=(117, 118), match='$'>\n",
      "<re.Match object; span=(118, 119), match=' '>\n",
      "<re.Match object; span=(119, 120), match='*'>\n",
      "<re.Match object; span=(120, 121), match=' '>\n",
      "<re.Match object; span=(121, 122), match='+'>\n",
      "<re.Match object; span=(122, 123), match=' '>\n",
      "<re.Match object; span=(123, 124), match='?'>\n",
      "<re.Match object; span=(124, 125), match=' '>\n",
      "<re.Match object; span=(125, 126), match='{'>\n",
      "<re.Match object; span=(126, 127), match=' '>\n",
      "<re.Match object; span=(127, 128), match='}'>\n",
      "<re.Match object; span=(128, 129), match=' '>\n",
      "<re.Match object; span=(129, 130), match='['>\n",
      "<re.Match object; span=(130, 131), match=' '>\n",
      "<re.Match object; span=(131, 132), match=']'>\n",
      "<re.Match object; span=(132, 133), match=' '>\n",
      "<re.Match object; span=(133, 134), match='\\\\'>\n",
      "<re.Match object; span=(134, 135), match=' '>\n",
      "<re.Match object; span=(135, 136), match='|'>\n",
      "<re.Match object; span=(136, 137), match=' '>\n",
      "<re.Match object; span=(137, 138), match='('>\n",
      "<re.Match object; span=(138, 139), match=' '>\n",
      "<re.Match object; span=(139, 140), match=')'>\n",
      "<re.Match object; span=(142, 143), match='h'>\n",
      "<re.Match object; span=(143, 144), match='a'>\n",
      "<re.Match object; span=(144, 145), match='v'>\n",
      "<re.Match object; span=(145, 146), match='i'>\n",
      "<re.Match object; span=(146, 147), match='n'>\n",
      "<re.Match object; span=(147, 148), match='s'>\n",
      "<re.Match object; span=(148, 149), match='o'>\n",
      "<re.Match object; span=(149, 150), match='h'>\n",
      "<re.Match object; span=(150, 151), match='.'>\n",
      "<re.Match object; span=(151, 152), match='c'>\n",
      "<re.Match object; span=(152, 153), match='o'>\n",
      "<re.Match object; span=(153, 154), match='m'>\n",
      "<re.Match object; span=(156, 157), match='3'>\n",
      "<re.Match object; span=(157, 158), match='2'>\n",
      "<re.Match object; span=(158, 159), match='1'>\n",
      "<re.Match object; span=(159, 160), match='-'>\n",
      "<re.Match object; span=(160, 161), match='5'>\n",
      "<re.Match object; span=(161, 162), match='5'>\n",
      "<re.Match object; span=(162, 163), match='5'>\n",
      "<re.Match object; span=(163, 164), match='-'>\n",
      "<re.Match object; span=(164, 165), match='4'>\n",
      "<re.Match object; span=(165, 166), match='3'>\n",
      "<re.Match object; span=(166, 167), match='2'>\n",
      "<re.Match object; span=(167, 168), match='1'>\n",
      "<re.Match object; span=(169, 170), match='1'>\n",
      "<re.Match object; span=(170, 171), match='2'>\n",
      "<re.Match object; span=(171, 172), match='3'>\n",
      "<re.Match object; span=(172, 173), match='.'>\n",
      "<re.Match object; span=(173, 174), match='5'>\n",
      "<re.Match object; span=(174, 175), match='5'>\n",
      "<re.Match object; span=(175, 176), match='5'>\n",
      "<re.Match object; span=(176, 177), match='.'>\n",
      "<re.Match object; span=(177, 178), match='1'>\n",
      "<re.Match object; span=(178, 179), match='2'>\n",
      "<re.Match object; span=(179, 180), match='3'>\n",
      "<re.Match object; span=(180, 181), match='4'>\n",
      "<re.Match object; span=(182, 183), match='1'>\n",
      "<re.Match object; span=(183, 184), match='2'>\n",
      "<re.Match object; span=(184, 185), match='3'>\n",
      "<re.Match object; span=(185, 186), match='*'>\n",
      "<re.Match object; span=(186, 187), match='5'>\n",
      "<re.Match object; span=(187, 188), match='5'>\n",
      "<re.Match object; span=(188, 189), match='5'>\n",
      "<re.Match object; span=(189, 190), match='*'>\n",
      "<re.Match object; span=(190, 191), match='1'>\n",
      "<re.Match object; span=(191, 192), match='2'>\n",
      "<re.Match object; span=(192, 193), match='3'>\n",
      "<re.Match object; span=(193, 194), match='4'>\n",
      "<re.Match object; span=(195, 196), match='8'>\n",
      "<re.Match object; span=(196, 197), match='0'>\n",
      "<re.Match object; span=(197, 198), match='0'>\n",
      "<re.Match object; span=(198, 199), match='-'>\n",
      "<re.Match object; span=(199, 200), match='5'>\n",
      "<re.Match object; span=(200, 201), match='5'>\n",
      "<re.Match object; span=(201, 202), match='5'>\n",
      "<re.Match object; span=(202, 203), match='-'>\n",
      "<re.Match object; span=(203, 204), match='1'>\n",
      "<re.Match object; span=(204, 205), match='2'>\n",
      "<re.Match object; span=(205, 206), match='3'>\n",
      "<re.Match object; span=(206, 207), match='4'>\n",
      "<re.Match object; span=(208, 209), match='9'>\n",
      "<re.Match object; span=(209, 210), match='0'>\n",
      "<re.Match object; span=(210, 211), match='0'>\n",
      "<re.Match object; span=(211, 212), match='-'>\n",
      "<re.Match object; span=(212, 213), match='5'>\n",
      "<re.Match object; span=(213, 214), match='5'>\n",
      "<re.Match object; span=(214, 215), match='5'>\n",
      "<re.Match object; span=(215, 216), match='-'>\n",
      "<re.Match object; span=(216, 217), match='1'>\n",
      "<re.Match object; span=(217, 218), match='2'>\n",
      "<re.Match object; span=(218, 219), match='3'>\n",
      "<re.Match object; span=(219, 220), match='4'>\n",
      "<re.Match object; span=(222, 223), match='M'>\n",
      "<re.Match object; span=(223, 224), match='r'>\n",
      "<re.Match object; span=(224, 225), match='.'>\n",
      "<re.Match object; span=(225, 226), match=' '>\n",
      "<re.Match object; span=(226, 227), match='V'>\n",
      "<re.Match object; span=(227, 228), match='i'>\n",
      "<re.Match object; span=(228, 229), match='s'>\n",
      "<re.Match object; span=(229, 230), match='h'>\n",
      "<re.Match object; span=(230, 231), match='a'>\n",
      "<re.Match object; span=(231, 232), match='l'>\n",
      "<re.Match object; span=(233, 234), match='M'>\n",
      "<re.Match object; span=(234, 235), match='r'>\n",
      "<re.Match object; span=(235, 236), match=' '>\n",
      "<re.Match object; span=(236, 237), match='S'>\n",
      "<re.Match object; span=(237, 238), match='m'>\n",
      "<re.Match object; span=(238, 239), match='i'>\n",
      "<re.Match object; span=(239, 240), match='t'>\n",
      "<re.Match object; span=(240, 241), match='h'>\n",
      "<re.Match object; span=(242, 243), match='M'>\n",
      "<re.Match object; span=(243, 244), match='s'>\n",
      "<re.Match object; span=(244, 245), match=' '>\n",
      "<re.Match object; span=(245, 246), match='D'>\n",
      "<re.Match object; span=(246, 247), match='a'>\n",
      "<re.Match object; span=(247, 248), match='v'>\n",
      "<re.Match object; span=(248, 249), match='i'>\n",
      "<re.Match object; span=(249, 250), match='s'>\n",
      "<re.Match object; span=(251, 252), match='M'>\n",
      "<re.Match object; span=(252, 253), match='r'>\n",
      "<re.Match object; span=(253, 254), match='s'>\n",
      "<re.Match object; span=(254, 255), match='.'>\n",
      "<re.Match object; span=(255, 256), match=' '>\n",
      "<re.Match object; span=(256, 257), match='R'>\n",
      "<re.Match object; span=(257, 258), match='o'>\n",
      "<re.Match object; span=(258, 259), match='b'>\n",
      "<re.Match object; span=(259, 260), match='i'>\n",
      "<re.Match object; span=(260, 261), match='n'>\n",
      "<re.Match object; span=(261, 262), match='s'>\n",
      "<re.Match object; span=(262, 263), match='o'>\n",
      "<re.Match object; span=(263, 264), match='n'>\n",
      "<re.Match object; span=(265, 266), match='M'>\n",
      "<re.Match object; span=(266, 267), match='r'>\n",
      "<re.Match object; span=(267, 268), match='.'>\n",
      "<re.Match object; span=(268, 269), match=' '>\n",
      "<re.Match object; span=(269, 270), match='T'>\n",
      "<re.Match object; span=(272, 273), match='c'>\n",
      "<re.Match object; span=(273, 274), match='a'>\n",
      "<re.Match object; span=(274, 275), match='t'>\n",
      "<re.Match object; span=(276, 277), match='m'>\n",
      "<re.Match object; span=(277, 278), match='a'>\n",
      "<re.Match object; span=(278, 279), match='t'>\n",
      "<re.Match object; span=(280, 281), match='b'>\n",
      "<re.Match object; span=(281, 282), match='a'>\n",
      "<re.Match object; span=(282, 283), match='t'>\n",
      "<re.Match object; span=(284, 285), match='p'>\n",
      "<re.Match object; span=(285, 286), match='a'>\n",
      "<re.Match object; span=(286, 287), match='t'>\n",
      "<re.Match object; span=(288, 289), match='f'>\n",
      "<re.Match object; span=(289, 290), match='l'>\n",
      "<re.Match object; span=(290, 291), match='a'>\n",
      "<re.Match object; span=(291, 292), match='t'>\n",
      "<re.Match object; span=(293, 294), match='f'>\n",
      "<re.Match object; span=(294, 295), match='a'>\n",
      "<re.Match object; span=(295, 296), match='t'>\n"
     ]
    }
   ],
   "source": [
    "pattern = re.compile(r'.')\n",
    "matches = pattern.finditer(text_to_search)\n",
    "for i in matches:\n",
    "    print(i)"
   ]
  },
  {
   "cell_type": "code",
   "execution_count": 221,
   "id": "c81bf099",
   "metadata": {},
   "outputs": [],
   "source": [
    "text = 'vishal\\nsingh\\n   \\t\\tsangral'"
   ]
  },
  {
   "cell_type": "code",
   "execution_count": 222,
   "id": "1d51660d",
   "metadata": {},
   "outputs": [
    {
     "name": "stdout",
     "output_type": "stream",
     "text": [
      "<re.Match object; span=(6, 7), match='\\n'>\n",
      "<re.Match object; span=(12, 13), match='\\n'>\n",
      "<re.Match object; span=(13, 14), match=' '>\n",
      "<re.Match object; span=(14, 15), match=' '>\n",
      "<re.Match object; span=(15, 16), match=' '>\n",
      "<re.Match object; span=(16, 17), match='\\t'>\n",
      "<re.Match object; span=(17, 18), match='\\t'>\n"
     ]
    }
   ],
   "source": [
    "pattern = re.compile(r'\\s')\n",
    "matches = pattern.finditer(text)\n",
    "for match in matches:\n",
    "    print(match)"
   ]
  },
  {
   "cell_type": "code",
   "execution_count": 223,
   "id": "15474a49",
   "metadata": {},
   "outputs": [
    {
     "name": "stdout",
     "output_type": "stream",
     "text": [
      "<re.Match object; span=(6, 7), match='\\n'>\n",
      "<re.Match object; span=(12, 13), match='\\n'>\n"
     ]
    }
   ],
   "source": [
    "pattern = re.compile(r'\\n')\n",
    "matches = pattern.finditer(text)\n",
    "for match in matches:\n",
    "    print(match)"
   ]
  },
  {
   "cell_type": "code",
   "execution_count": 224,
   "id": "3f019de0",
   "metadata": {},
   "outputs": [
    {
     "name": "stdout",
     "output_type": "stream",
     "text": [
      "<re.Match object; span=(13, 14), match=' '>\n",
      "<re.Match object; span=(14, 15), match=' '>\n",
      "<re.Match object; span=(15, 16), match=' '>\n"
     ]
    }
   ],
   "source": [
    "pattern = re.compile(r' ')\n",
    "matches = pattern.finditer(text)\n",
    "for match in matches:\n",
    "    print(match)"
   ]
  },
  {
   "cell_type": "code",
   "execution_count": 225,
   "id": "8872f59f",
   "metadata": {},
   "outputs": [
    {
     "name": "stdout",
     "output_type": "stream",
     "text": [
      "<re.Match object; span=(113, 114), match='.'>\n",
      "<re.Match object; span=(150, 151), match='.'>\n",
      "<re.Match object; span=(172, 173), match='.'>\n",
      "<re.Match object; span=(176, 177), match='.'>\n",
      "<re.Match object; span=(224, 225), match='.'>\n",
      "<re.Match object; span=(254, 255), match='.'>\n",
      "<re.Match object; span=(267, 268), match='.'>\n"
     ]
    }
   ],
   "source": [
    "pattern = re.compile(r'\\.')\n",
    "matches = pattern.finditer(text_to_search)\n",
    "for match in matches:\n",
    "    print(match)"
   ]
  },
  {
   "cell_type": "code",
   "execution_count": 17,
   "id": "9daecae7",
   "metadata": {},
   "outputs": [
    {
     "name": "stdout",
     "output_type": "stream",
     "text": [
      "<re.Match object; span=(113, 114), match='.'>\n",
      "<re.Match object; span=(149, 150), match='.'>\n",
      "<re.Match object; span=(171, 172), match='.'>\n",
      "<re.Match object; span=(175, 176), match='.'>\n",
      "<re.Match object; span=(223, 224), match='.'>\n",
      "<re.Match object; span=(254, 255), match='.'>\n",
      "<re.Match object; span=(267, 268), match='.'>\n"
     ]
    }
   ],
   "source": [
    "#CONCEPT OF WORD BOUNDARY \n",
    "pattern = re.compile(r'\\bHa')\n",
    "matches = pattern.finditer(text_to_search)\n",
    "for match in matches:\n",
    "    print(match)"
   ]
  },
  {
   "cell_type": "code",
   "execution_count": 234,
   "id": "71b5ca81",
   "metadata": {},
   "outputs": [
    {
     "name": "stdout",
     "output_type": "stream",
     "text": [
      "<re.Match object; span=(72, 74), match='Ha'>\n"
     ]
    }
   ],
   "source": [
    "#CONCEPT OF NO WORD BOUNDARIES\n",
    "pattern = re.compile(r'\\BHa')\n",
    "matches = pattern.finditer(text_to_search)\n",
    "for match in matches:\n",
    "    print(match)"
   ]
  },
  {
   "cell_type": "code",
   "execution_count": 235,
   "id": "04ac914e",
   "metadata": {},
   "outputs": [],
   "source": [
    "##ONE MORE EXAMPLE\n",
    "text = 'vishal singh Sa SaSa Sa'"
   ]
  },
  {
   "cell_type": "code",
   "execution_count": 236,
   "id": "0e88f949",
   "metadata": {},
   "outputs": [
    {
     "name": "stdout",
     "output_type": "stream",
     "text": [
      "<re.Match object; span=(13, 15), match='Sa'>\n",
      "<re.Match object; span=(16, 18), match='Sa'>\n",
      "<re.Match object; span=(21, 23), match='Sa'>\n"
     ]
    }
   ],
   "source": [
    "#CONCEPT OF WORD BOUNDARY \n",
    "pattern = re.compile(r'\\bSa')\n",
    "matches = pattern.finditer(text)\n",
    "for match in matches:\n",
    "    print(match)"
   ]
  },
  {
   "cell_type": "code",
   "execution_count": 237,
   "id": "f7a34a6a",
   "metadata": {},
   "outputs": [
    {
     "name": "stdout",
     "output_type": "stream",
     "text": [
      "<re.Match object; span=(18, 20), match='Sa'>\n"
     ]
    }
   ],
   "source": [
    "#CONCEPT OF NO WORD BOUNDARIES\n",
    "pattern = re.compile(r'\\BSa')\n",
    "matches = pattern.finditer(text)\n",
    "for match in matches:\n",
    "    print(match)"
   ]
  },
  {
   "cell_type": "code",
   "execution_count": 3,
   "id": "26f7db31",
   "metadata": {},
   "outputs": [],
   "source": [
    "sentence = 'Start a sentence and then bring it to an end'"
   ]
  },
  {
   "cell_type": "code",
   "execution_count": 5,
   "id": "e4a261a5",
   "metadata": {},
   "outputs": [
    {
     "name": "stdout",
     "output_type": "stream",
     "text": [
      "<re.Match object; span=(0, 5), match='Start'>\n"
     ]
    }
   ],
   "source": [
    "#concept of carrot operator\n",
    "pattern = re.compile(r'^Start')\n",
    "matches = pattern.finditer(sentence)\n",
    "for match in matches:\n",
    "    print(match)"
   ]
  },
  {
   "cell_type": "code",
   "execution_count": 6,
   "id": "0ac90748",
   "metadata": {},
   "outputs": [],
   "source": [
    "pattern = re.compile(r'^a')\n",
    "matches = pattern.finditer(sentence)\n",
    "for match in matches:\n",
    "    print(match)"
   ]
  },
  {
   "cell_type": "code",
   "execution_count": 4,
   "id": "89cccd58",
   "metadata": {},
   "outputs": [
    {
     "name": "stdout",
     "output_type": "stream",
     "text": [
      "<re.Match object; span=(2, 3), match='a'>\n",
      "<re.Match object; span=(6, 7), match='a'>\n",
      "<re.Match object; span=(17, 18), match='a'>\n",
      "<re.Match object; span=(38, 39), match='a'>\n"
     ]
    }
   ],
   "source": [
    "import re\n",
    "pattern = re.compile(r'a')\n",
    "matches = pattern.finditer(sentence)\n",
    "for match in matches:\n",
    "    print(match)"
   ]
  },
  {
   "cell_type": "code",
   "execution_count": 7,
   "id": "fa1f24b3",
   "metadata": {},
   "outputs": [
    {
     "name": "stdout",
     "output_type": "stream",
     "text": [
      "<re.Match object; span=(41, 44), match='end'>\n"
     ]
    }
   ],
   "source": [
    "pattern = re.compile(r'end$')\n",
    "matches = pattern.finditer(sentence)\n",
    "for match in matches:\n",
    "    print(match)"
   ]
  },
  {
   "cell_type": "code",
   "execution_count": 11,
   "id": "2b4b7dbf",
   "metadata": {},
   "outputs": [
    {
     "name": "stdout",
     "output_type": "stream",
     "text": [
      "<re.Match object; span=(182, 194), match='123*555*1234'>\n"
     ]
    }
   ],
   "source": [
    "pattern = re.compile(r'\\d\\d\\d[*]\\d\\d\\d[*]\\d\\d\\d\\d')\n",
    "matches = pattern.finditer(text_to_search)\n",
    "for match in matches:\n",
    "    print(match)"
   ]
  },
  {
   "cell_type": "code",
   "execution_count": 12,
   "id": "625486d0",
   "metadata": {},
   "outputs": [
    {
     "name": "stdout",
     "output_type": "stream",
     "text": [
      "<re.Match object; span=(195, 207), match='800-555-1234'>\n",
      "<re.Match object; span=(208, 220), match='900-555-1234'>\n"
     ]
    }
   ],
   "source": [
    "pattern = re.compile(r'[89]00[-.]\\d\\d\\d[-.]\\d\\d\\d\\d')\n",
    "matches = pattern.finditer(text_to_search)\n",
    "for match in matches:\n",
    "    print(match)"
   ]
  },
  {
   "cell_type": "code",
   "execution_count": 15,
   "id": "3cab7c91",
   "metadata": {},
   "outputs": [
    {
     "name": "stdout",
     "output_type": "stream",
     "text": [
      "<re.Match object; span=(58, 59), match='4'>\n",
      "<re.Match object; span=(59, 60), match='5'>\n",
      "<re.Match object; span=(60, 61), match='6'>\n",
      "<re.Match object; span=(61, 62), match='7'>\n",
      "<re.Match object; span=(160, 161), match='5'>\n",
      "<re.Match object; span=(161, 162), match='5'>\n",
      "<re.Match object; span=(162, 163), match='5'>\n",
      "<re.Match object; span=(164, 165), match='4'>\n",
      "<re.Match object; span=(173, 174), match='5'>\n",
      "<re.Match object; span=(174, 175), match='5'>\n",
      "<re.Match object; span=(175, 176), match='5'>\n",
      "<re.Match object; span=(180, 181), match='4'>\n",
      "<re.Match object; span=(186, 187), match='5'>\n",
      "<re.Match object; span=(187, 188), match='5'>\n",
      "<re.Match object; span=(188, 189), match='5'>\n",
      "<re.Match object; span=(193, 194), match='4'>\n",
      "<re.Match object; span=(199, 200), match='5'>\n",
      "<re.Match object; span=(200, 201), match='5'>\n",
      "<re.Match object; span=(201, 202), match='5'>\n",
      "<re.Match object; span=(206, 207), match='4'>\n",
      "<re.Match object; span=(212, 213), match='5'>\n",
      "<re.Match object; span=(213, 214), match='5'>\n",
      "<re.Match object; span=(214, 215), match='5'>\n",
      "<re.Match object; span=(219, 220), match='4'>\n"
     ]
    }
   ],
   "source": [
    "pattern = re.compile(r'[4-7]')\n",
    "matches = pattern.finditer(text_to_search)\n",
    "for match in matches:\n",
    "    print(match)"
   ]
  },
  {
   "cell_type": "code",
   "execution_count": 17,
   "id": "67dad5db",
   "metadata": {},
   "outputs": [
    {
     "name": "stdout",
     "output_type": "stream",
     "text": [
      "<re.Match object; span=(11, 12), match='k'>\n",
      "<re.Match object; span=(12, 13), match='l'>\n",
      "<re.Match object; span=(13, 14), match='m'>\n",
      "<re.Match object; span=(14, 15), match='n'>\n",
      "<re.Match object; span=(15, 16), match='o'>\n",
      "<re.Match object; span=(16, 17), match='p'>\n",
      "<re.Match object; span=(17, 18), match='q'>\n",
      "<re.Match object; span=(18, 19), match='u'>\n",
      "<re.Match object; span=(19, 20), match='r'>\n",
      "<re.Match object; span=(20, 21), match='t'>\n",
      "<re.Match object; span=(21, 22), match='u'>\n",
      "<re.Match object; span=(22, 23), match='v'>\n",
      "<re.Match object; span=(23, 24), match='w'>\n",
      "<re.Match object; span=(24, 25), match='x'>\n",
      "<re.Match object; span=(25, 26), match='y'>\n",
      "<re.Match object; span=(26, 27), match='z'>\n",
      "<re.Match object; span=(38, 39), match='K'>\n",
      "<re.Match object; span=(39, 40), match='L'>\n",
      "<re.Match object; span=(40, 41), match='M'>\n",
      "<re.Match object; span=(41, 42), match='N'>\n",
      "<re.Match object; span=(42, 43), match='O'>\n",
      "<re.Match object; span=(43, 44), match='P'>\n",
      "<re.Match object; span=(44, 45), match='Q'>\n",
      "<re.Match object; span=(45, 46), match='R'>\n",
      "<re.Match object; span=(46, 47), match='S'>\n",
      "<re.Match object; span=(47, 48), match='T'>\n",
      "<re.Match object; span=(48, 49), match='U'>\n",
      "<re.Match object; span=(49, 50), match='V'>\n",
      "<re.Match object; span=(50, 51), match='W'>\n",
      "<re.Match object; span=(51, 52), match='X'>\n",
      "<re.Match object; span=(52, 53), match='Y'>\n",
      "<re.Match object; span=(53, 54), match='Z'>\n",
      "<re.Match object; span=(76, 77), match='M'>\n",
      "<re.Match object; span=(78, 79), match='t'>\n",
      "<re.Match object; span=(83, 84), match='r'>\n",
      "<re.Match object; span=(86, 87), match='t'>\n",
      "<re.Match object; span=(88, 89), match='r'>\n",
      "<re.Match object; span=(89, 90), match='s'>\n",
      "<re.Match object; span=(92, 93), match='N'>\n",
      "<re.Match object; span=(97, 98), match='t'>\n",
      "<re.Match object; span=(98, 99), match='o'>\n",
      "<re.Match object; span=(104, 105), match='s'>\n",
      "<re.Match object; span=(107, 108), match='p'>\n",
      "<re.Match object; span=(144, 145), match='v'>\n",
      "<re.Match object; span=(146, 147), match='n'>\n",
      "<re.Match object; span=(147, 148), match='s'>\n",
      "<re.Match object; span=(148, 149), match='o'>\n",
      "<re.Match object; span=(152, 153), match='o'>\n",
      "<re.Match object; span=(153, 154), match='m'>\n",
      "<re.Match object; span=(222, 223), match='M'>\n",
      "<re.Match object; span=(223, 224), match='r'>\n",
      "<re.Match object; span=(226, 227), match='V'>\n",
      "<re.Match object; span=(228, 229), match='s'>\n",
      "<re.Match object; span=(231, 232), match='l'>\n",
      "<re.Match object; span=(233, 234), match='M'>\n",
      "<re.Match object; span=(234, 235), match='r'>\n",
      "<re.Match object; span=(236, 237), match='S'>\n",
      "<re.Match object; span=(237, 238), match='m'>\n",
      "<re.Match object; span=(239, 240), match='t'>\n",
      "<re.Match object; span=(242, 243), match='M'>\n",
      "<re.Match object; span=(243, 244), match='s'>\n",
      "<re.Match object; span=(247, 248), match='v'>\n",
      "<re.Match object; span=(249, 250), match='s'>\n",
      "<re.Match object; span=(251, 252), match='M'>\n",
      "<re.Match object; span=(252, 253), match='r'>\n",
      "<re.Match object; span=(253, 254), match='s'>\n",
      "<re.Match object; span=(256, 257), match='R'>\n",
      "<re.Match object; span=(257, 258), match='o'>\n",
      "<re.Match object; span=(260, 261), match='n'>\n",
      "<re.Match object; span=(261, 262), match='s'>\n",
      "<re.Match object; span=(262, 263), match='o'>\n",
      "<re.Match object; span=(263, 264), match='n'>\n",
      "<re.Match object; span=(265, 266), match='M'>\n",
      "<re.Match object; span=(266, 267), match='r'>\n",
      "<re.Match object; span=(269, 270), match='T'>\n",
      "<re.Match object; span=(274, 275), match='t'>\n",
      "<re.Match object; span=(276, 277), match='m'>\n",
      "<re.Match object; span=(278, 279), match='t'>\n",
      "<re.Match object; span=(282, 283), match='t'>\n",
      "<re.Match object; span=(284, 285), match='p'>\n",
      "<re.Match object; span=(286, 287), match='t'>\n",
      "<re.Match object; span=(289, 290), match='l'>\n",
      "<re.Match object; span=(291, 292), match='t'>\n",
      "<re.Match object; span=(295, 296), match='t'>\n"
     ]
    }
   ],
   "source": [
    "pattern = re.compile(r'[k-zK-Z]')\n",
    "matches = pattern.finditer(text_to_search)\n",
    "for match in matches:\n",
    "    print(match)"
   ]
  },
  {
   "cell_type": "code",
   "execution_count": 42,
   "id": "7402277b",
   "metadata": {},
   "outputs": [
    {
     "name": "stdout",
     "output_type": "stream",
     "text": [
      "<re.Match object; span=(0, 1), match='\\n'>\n",
      "<re.Match object; span=(27, 28), match='\\n'>\n",
      "<re.Match object; span=(54, 55), match='\\n'>\n",
      "<re.Match object; span=(55, 56), match='1'>\n",
      "<re.Match object; span=(56, 57), match='2'>\n",
      "<re.Match object; span=(57, 58), match='3'>\n",
      "<re.Match object; span=(58, 59), match='4'>\n",
      "<re.Match object; span=(59, 60), match='5'>\n",
      "<re.Match object; span=(60, 61), match='6'>\n",
      "<re.Match object; span=(61, 62), match='7'>\n",
      "<re.Match object; span=(62, 63), match='8'>\n",
      "<re.Match object; span=(63, 64), match='9'>\n",
      "<re.Match object; span=(64, 65), match='0'>\n",
      "<re.Match object; span=(65, 66), match='\\n'>\n",
      "<re.Match object; span=(66, 67), match='\\n'>\n",
      "<re.Match object; span=(69, 70), match=' '>\n",
      "<re.Match object; span=(74, 75), match='\\n'>\n",
      "<re.Match object; span=(75, 76), match='\\n'>\n",
      "<re.Match object; span=(90, 91), match=' '>\n",
      "<re.Match object; span=(91, 92), match='('>\n",
      "<re.Match object; span=(96, 97), match=' '>\n",
      "<re.Match object; span=(99, 100), match=' '>\n",
      "<re.Match object; span=(102, 103), match=' '>\n",
      "<re.Match object; span=(110, 111), match=')'>\n",
      "<re.Match object; span=(111, 112), match=':'>\n",
      "<re.Match object; span=(112, 113), match='\\n'>\n",
      "<re.Match object; span=(113, 114), match='.'>\n",
      "<re.Match object; span=(114, 115), match=' '>\n",
      "<re.Match object; span=(115, 116), match='^'>\n",
      "<re.Match object; span=(116, 117), match=' '>\n",
      "<re.Match object; span=(117, 118), match='$'>\n",
      "<re.Match object; span=(118, 119), match=' '>\n",
      "<re.Match object; span=(119, 120), match='*'>\n",
      "<re.Match object; span=(120, 121), match=' '>\n",
      "<re.Match object; span=(121, 122), match='+'>\n",
      "<re.Match object; span=(122, 123), match=' '>\n",
      "<re.Match object; span=(123, 124), match='?'>\n",
      "<re.Match object; span=(124, 125), match=' '>\n",
      "<re.Match object; span=(125, 126), match='{'>\n",
      "<re.Match object; span=(126, 127), match=' '>\n",
      "<re.Match object; span=(127, 128), match='}'>\n",
      "<re.Match object; span=(128, 129), match=' '>\n",
      "<re.Match object; span=(129, 130), match='['>\n",
      "<re.Match object; span=(130, 131), match=' '>\n",
      "<re.Match object; span=(131, 132), match=']'>\n",
      "<re.Match object; span=(132, 133), match=' '>\n",
      "<re.Match object; span=(133, 134), match='\\\\'>\n",
      "<re.Match object; span=(134, 135), match=' '>\n",
      "<re.Match object; span=(135, 136), match='|'>\n",
      "<re.Match object; span=(136, 137), match=' '>\n",
      "<re.Match object; span=(137, 138), match='('>\n",
      "<re.Match object; span=(138, 139), match=' '>\n",
      "<re.Match object; span=(139, 140), match=')'>\n",
      "<re.Match object; span=(140, 141), match='\\n'>\n",
      "<re.Match object; span=(141, 142), match='\\n'>\n",
      "<re.Match object; span=(149, 150), match='.'>\n",
      "<re.Match object; span=(153, 154), match='\\n'>\n",
      "<re.Match object; span=(154, 155), match='\\n'>\n",
      "<re.Match object; span=(155, 156), match='3'>\n",
      "<re.Match object; span=(156, 157), match='2'>\n",
      "<re.Match object; span=(157, 158), match='1'>\n",
      "<re.Match object; span=(158, 159), match='-'>\n",
      "<re.Match object; span=(159, 160), match='5'>\n",
      "<re.Match object; span=(160, 161), match='5'>\n",
      "<re.Match object; span=(161, 162), match='5'>\n",
      "<re.Match object; span=(162, 163), match='-'>\n",
      "<re.Match object; span=(163, 164), match='4'>\n",
      "<re.Match object; span=(164, 165), match='3'>\n",
      "<re.Match object; span=(165, 166), match='2'>\n",
      "<re.Match object; span=(166, 167), match='1'>\n",
      "<re.Match object; span=(167, 168), match='\\n'>\n",
      "<re.Match object; span=(168, 169), match='1'>\n",
      "<re.Match object; span=(169, 170), match='2'>\n",
      "<re.Match object; span=(170, 171), match='3'>\n",
      "<re.Match object; span=(171, 172), match='.'>\n",
      "<re.Match object; span=(172, 173), match='5'>\n",
      "<re.Match object; span=(173, 174), match='5'>\n",
      "<re.Match object; span=(174, 175), match='5'>\n",
      "<re.Match object; span=(175, 176), match='.'>\n",
      "<re.Match object; span=(176, 177), match='1'>\n",
      "<re.Match object; span=(177, 178), match='2'>\n",
      "<re.Match object; span=(178, 179), match='3'>\n",
      "<re.Match object; span=(179, 180), match='4'>\n",
      "<re.Match object; span=(180, 181), match='\\n'>\n",
      "<re.Match object; span=(181, 182), match='1'>\n",
      "<re.Match object; span=(182, 183), match='2'>\n",
      "<re.Match object; span=(183, 184), match='3'>\n",
      "<re.Match object; span=(184, 185), match='*'>\n",
      "<re.Match object; span=(185, 186), match='5'>\n",
      "<re.Match object; span=(186, 187), match='5'>\n",
      "<re.Match object; span=(187, 188), match='5'>\n",
      "<re.Match object; span=(188, 189), match='*'>\n",
      "<re.Match object; span=(189, 190), match='1'>\n",
      "<re.Match object; span=(190, 191), match='2'>\n",
      "<re.Match object; span=(191, 192), match='3'>\n",
      "<re.Match object; span=(192, 193), match='4'>\n",
      "<re.Match object; span=(193, 194), match='\\n'>\n",
      "<re.Match object; span=(194, 195), match='8'>\n",
      "<re.Match object; span=(195, 196), match='0'>\n",
      "<re.Match object; span=(196, 197), match='0'>\n",
      "<re.Match object; span=(197, 198), match='-'>\n",
      "<re.Match object; span=(198, 199), match='5'>\n",
      "<re.Match object; span=(199, 200), match='5'>\n",
      "<re.Match object; span=(200, 201), match='5'>\n",
      "<re.Match object; span=(201, 202), match='-'>\n",
      "<re.Match object; span=(202, 203), match='1'>\n",
      "<re.Match object; span=(203, 204), match='2'>\n",
      "<re.Match object; span=(204, 205), match='3'>\n",
      "<re.Match object; span=(205, 206), match='4'>\n",
      "<re.Match object; span=(206, 207), match='\\n'>\n",
      "<re.Match object; span=(207, 208), match='9'>\n",
      "<re.Match object; span=(208, 209), match='0'>\n",
      "<re.Match object; span=(209, 210), match='0'>\n",
      "<re.Match object; span=(210, 211), match='-'>\n",
      "<re.Match object; span=(211, 212), match='5'>\n",
      "<re.Match object; span=(212, 213), match='5'>\n",
      "<re.Match object; span=(213, 214), match='5'>\n",
      "<re.Match object; span=(214, 215), match='-'>\n",
      "<re.Match object; span=(215, 216), match='1'>\n",
      "<re.Match object; span=(216, 217), match='2'>\n",
      "<re.Match object; span=(217, 218), match='3'>\n",
      "<re.Match object; span=(218, 219), match='4'>\n",
      "<re.Match object; span=(219, 220), match='\\n'>\n",
      "<re.Match object; span=(220, 221), match='\\n'>\n",
      "<re.Match object; span=(223, 224), match='.'>\n",
      "<re.Match object; span=(224, 225), match=' '>\n",
      "<re.Match object; span=(232, 233), match='\\n'>\n",
      "<re.Match object; span=(235, 236), match=' '>\n",
      "<re.Match object; span=(241, 242), match='\\n'>\n",
      "<re.Match object; span=(244, 245), match=' '>\n",
      "<re.Match object; span=(250, 251), match='\\n'>\n",
      "<re.Match object; span=(254, 255), match='.'>\n",
      "<re.Match object; span=(255, 256), match=' '>\n",
      "<re.Match object; span=(264, 265), match='\\n'>\n",
      "<re.Match object; span=(267, 268), match='.'>\n",
      "<re.Match object; span=(268, 269), match=' '>\n",
      "<re.Match object; span=(270, 271), match='\\n'>\n"
     ]
    }
   ],
   "source": [
    "pattern = re.compile(r'[^a-zA-Z]')\n",
    "matches = pattern.finditer(text_to_search)\n",
    "for match in matches:\n",
    "    print(match)"
   ]
  },
  {
   "cell_type": "code",
   "execution_count": 18,
   "id": "0dee2fae",
   "metadata": {},
   "outputs": [
    {
     "name": "stdout",
     "output_type": "stream",
     "text": [
      "<re.Match object; span=(272, 275), match='cat'>\n",
      "<re.Match object; span=(276, 279), match='mat'>\n",
      "<re.Match object; span=(284, 287), match='pat'>\n",
      "<re.Match object; span=(289, 292), match='lat'>\n",
      "<re.Match object; span=(293, 296), match='fat'>\n"
     ]
    }
   ],
   "source": [
    "#here we are finding words not starting with b\n",
    "pattern = re.compile(r'[^b]at')\n",
    "matches = pattern.finditer(text_to_search)\n",
    "for match in matches:\n",
    "    print(match)"
   ]
  },
  {
   "cell_type": "code",
   "execution_count": 19,
   "id": "de9a3ed7",
   "metadata": {},
   "outputs": [
    {
     "name": "stdout",
     "output_type": "stream",
     "text": [
      "<re.Match object; span=(156, 168), match='321-555-4321'>\n",
      "<re.Match object; span=(169, 181), match='123.555.1234'>\n",
      "<re.Match object; span=(182, 194), match='123*555*1234'>\n",
      "<re.Match object; span=(195, 207), match='800-555-1234'>\n",
      "<re.Match object; span=(208, 220), match='900-555-1234'>\n"
     ]
    }
   ],
   "source": [
    "pattern = re.compile(r'\\d{3}.\\d{3}.\\d{4}')\n",
    "matches = pattern.finditer(text_to_search)\n",
    "for match in matches:\n",
    "    print(match)"
   ]
  },
  {
   "cell_type": "code",
   "execution_count": 23,
   "id": "5ea96ef7",
   "metadata": {},
   "outputs": [
    {
     "name": "stdout",
     "output_type": "stream",
     "text": [
      "<re.Match object; span=(222, 225), match='Mr.'>\n",
      "<re.Match object; span=(265, 268), match='Mr.'>\n"
     ]
    }
   ],
   "source": [
    "pattern = re.compile(r'Mr\\.')\n",
    "matches = pattern.finditer(text_to_search)\n",
    "for match in matches:\n",
    "    print(match)"
   ]
  },
  {
   "cell_type": "code",
   "execution_count": 24,
   "id": "ae2f475a",
   "metadata": {},
   "outputs": [
    {
     "name": "stdout",
     "output_type": "stream",
     "text": [
      "<re.Match object; span=(222, 225), match='Mr.'>\n",
      "<re.Match object; span=(233, 235), match='Mr'>\n",
      "<re.Match object; span=(251, 253), match='Mr'>\n",
      "<re.Match object; span=(265, 268), match='Mr.'>\n"
     ]
    }
   ],
   "source": [
    "pattern = re.compile(r'Mr\\.?')\n",
    "matches = pattern.finditer(text_to_search)\n",
    "for match in matches:\n",
    "    print(match)"
   ]
  },
  {
   "cell_type": "code",
   "execution_count": 28,
   "id": "35be3df1",
   "metadata": {},
   "outputs": [
    {
     "name": "stdout",
     "output_type": "stream",
     "text": [
      "<re.Match object; span=(222, 232), match='Mr. Vishal'>\n",
      "<re.Match object; span=(233, 241), match='Mr Smith'>\n",
      "<re.Match object; span=(265, 270), match='Mr. T'>\n"
     ]
    }
   ],
   "source": [
    "pattern = re.compile(r'Mr\\.?\\s[A-Z]\\w*')\n",
    "matches = pattern.finditer(text_to_search)\n",
    "for match in matches:\n",
    "    print(match)"
   ]
  },
  {
   "cell_type": "code",
   "execution_count": 29,
   "id": "b5c591b0",
   "metadata": {},
   "outputs": [
    {
     "name": "stdout",
     "output_type": "stream",
     "text": [
      "<re.Match object; span=(222, 232), match='Mr. Vishal'>\n",
      "<re.Match object; span=(233, 241), match='Mr Smith'>\n",
      "<re.Match object; span=(242, 250), match='Ms Davis'>\n",
      "<re.Match object; span=(251, 264), match='Mrs. Robinson'>\n",
      "<re.Match object; span=(265, 270), match='Mr. T'>\n"
     ]
    }
   ],
   "source": [
    "pattern = re.compile(r'(Mr|Ms|Mrs)\\.?\\s[A-Z]\\w*')\n",
    "matches = pattern.finditer(text_to_search)\n",
    "for match in matches:\n",
    "    print(match)"
   ]
  },
  {
   "cell_type": "code",
   "execution_count": 42,
   "id": "d0445748",
   "metadata": {},
   "outputs": [
    {
     "name": "stdout",
     "output_type": "stream",
     "text": [
      "Greedy matches: ['<div>Hello</div><span>World</span>']\n",
      "Lazy matches: ['<div>', '</div>', '<span>', '</span>']\n"
     ]
    }
   ],
   "source": [
    "import re\n",
    "\n",
    "# Pattern that uses a greedy quantifier '*'\n",
    "greedy_pattern = re.compile(r'<.*>')\n",
    "# Pattern that uses a lazy quantifier '*?'\n",
    "lazy_pattern = re.compile(r'<.*?>')\n",
    "\n",
    "# Test string\n",
    "text = \"<div>Hello</div><span>World</span>\"\n",
    "\n",
    "# Find all matches using greedy and lazy quantifiers\n",
    "greedy_matches = greedy_pattern.findall(text)\n",
    "lazy_matches = lazy_pattern.findall(text)\n",
    "\n",
    "print(f\"Greedy matches: {greedy_matches}\")\n",
    "print(f\"Lazy matches: {lazy_matches}\")"
   ]
  },
  {
   "cell_type": "code",
   "execution_count": 30,
   "id": "87703df1",
   "metadata": {},
   "outputs": [],
   "source": [
    "emails = '''\n",
    "VishalSsangral@gmail.com\n",
    "sangral.singh@university.edu\n",
    "vishal-321-sangral@my-work.net\n",
    "'''"
   ]
  },
  {
   "cell_type": "code",
   "execution_count": 31,
   "id": "09991af9",
   "metadata": {},
   "outputs": [
    {
     "name": "stdout",
     "output_type": "stream",
     "text": [
      "<re.Match object; span=(1, 25), match='VishalSsangral@gmail.com'>\n",
      "<re.Match object; span=(26, 54), match='sangral.singh@university.edu'>\n",
      "<re.Match object; span=(55, 85), match='vishal-321-sangral@my-work.net'>\n"
     ]
    }
   ],
   "source": [
    "pattern = re.compile(r'[a-zA-Z0-9.-]+@[a-zA-Z-]+\\.(com|edu|net)')\n",
    "matches = pattern.finditer(emails)\n",
    "for match in matches:\n",
    "    print(match)"
   ]
  },
  {
   "cell_type": "code",
   "execution_count": 32,
   "id": "be083d53",
   "metadata": {},
   "outputs": [
    {
     "name": "stdout",
     "output_type": "stream",
     "text": [
      "<re.Match object; span=(1, 25), match='VishalSsangral@gmail.com'>\n",
      "<re.Match object; span=(26, 54), match='sangral.singh@university.edu'>\n",
      "<re.Match object; span=(55, 85), match='vishal-321-sangral@my-work.net'>\n"
     ]
    }
   ],
   "source": [
    "pattern = re.compile(r'[a-zA-Z0-9_.+-]+@[a-zA-Z0-9-]+\\.[a-zA-Z0-9-.]+')\n",
    "matches = pattern.finditer(emails)\n",
    "for match in matches:\n",
    "    print(match)"
   ]
  },
  {
   "cell_type": "code",
   "execution_count": 33,
   "id": "6b22fb51",
   "metadata": {},
   "outputs": [],
   "source": [
    "urls = '''\n",
    "https://www.google.com\n",
    "http://havinosh.com\n",
    "https://youtube.com\n",
    "https://www.isro.gov\n",
    "'''"
   ]
  },
  {
   "cell_type": "code",
   "execution_count": 34,
   "id": "1375fee7",
   "metadata": {},
   "outputs": [
    {
     "name": "stdout",
     "output_type": "stream",
     "text": [
      "\n",
      "https://www.google.com\n",
      "http://havinosh.com\n",
      "https://youtube.com\n",
      "https://www.isro.gov\n",
      "\n"
     ]
    }
   ],
   "source": [
    "print(urls)"
   ]
  },
  {
   "cell_type": "code",
   "execution_count": 35,
   "id": "6c9bdac2",
   "metadata": {},
   "outputs": [
    {
     "name": "stdout",
     "output_type": "stream",
     "text": [
      "<re.Match object; span=(1, 23), match='https://www.google.com'>\n",
      "<re.Match object; span=(24, 43), match='http://havinosh.com'>\n",
      "<re.Match object; span=(44, 63), match='https://youtube.com'>\n",
      "<re.Match object; span=(64, 84), match='https://www.isro.gov'>\n"
     ]
    }
   ],
   "source": [
    "pattern = re.compile(r'https?://(www\\.)?(\\w+)(\\.\\w+)')\n",
    "matches = pattern.finditer(urls)\n",
    "for match in matches:\n",
    "    print(match)"
   ]
  },
  {
   "cell_type": "code",
   "execution_count": 36,
   "id": "82ba91d1",
   "metadata": {},
   "outputs": [
    {
     "name": "stdout",
     "output_type": "stream",
     "text": [
      "https://www.google.com\n",
      "http://havinosh.com\n",
      "https://youtube.com\n",
      "https://www.isro.gov\n"
     ]
    }
   ],
   "source": [
    "pattern = re.compile(r'https?://(www\\.)?(\\w+)(\\.\\w+)')\n",
    "matches = pattern.finditer(urls)\n",
    "for match in matches:\n",
    "    print(match.group(0))"
   ]
  },
  {
   "cell_type": "code",
   "execution_count": 37,
   "id": "a22bdbeb",
   "metadata": {},
   "outputs": [
    {
     "name": "stdout",
     "output_type": "stream",
     "text": [
      "www.\n",
      "None\n",
      "None\n",
      "www.\n"
     ]
    }
   ],
   "source": [
    "pattern = re.compile(r'https?://(www\\.)?(\\w+)(\\.\\w+)')\n",
    "matches = pattern.finditer(urls)\n",
    "for match in matches:\n",
    "    print(match.group(1))"
   ]
  },
  {
   "cell_type": "code",
   "execution_count": 38,
   "id": "73dc90da",
   "metadata": {},
   "outputs": [
    {
     "name": "stdout",
     "output_type": "stream",
     "text": [
      "google\n",
      "havinosh\n",
      "youtube\n",
      "isro\n"
     ]
    }
   ],
   "source": [
    "pattern = re.compile(r'https?://(www\\.)?(\\w+)(\\.\\w+)')\n",
    "matches = pattern.finditer(urls)\n",
    "for match in matches:\n",
    "    print(match.group(2))"
   ]
  },
  {
   "cell_type": "code",
   "execution_count": 39,
   "id": "e73a963b",
   "metadata": {},
   "outputs": [
    {
     "name": "stdout",
     "output_type": "stream",
     "text": [
      ".com\n",
      ".com\n",
      ".com\n",
      ".gov\n"
     ]
    }
   ],
   "source": [
    "pattern = re.compile(r'https?://(www\\.)?(\\w+)(\\.\\w+)')\n",
    "matches = pattern.finditer(urls)\n",
    "for match in matches:\n",
    "    print(match.group(3))"
   ]
  },
  {
   "cell_type": "code",
   "execution_count": 40,
   "id": "33a2d652",
   "metadata": {},
   "outputs": [
    {
     "name": "stdout",
     "output_type": "stream",
     "text": [
      "\n",
      "google.com\n",
      "havinosh.com\n",
      "youtube.com\n",
      "isro.gov\n",
      "\n"
     ]
    }
   ],
   "source": [
    "pattern = re.compile(r'https?://(www\\.)?(\\w+)(\\.\\w+)')\n",
    "subbed_urls = pattern.sub(r'\\2\\3',urls)\n",
    "print(subbed_urls)"
   ]
  },
  {
   "cell_type": "code",
   "execution_count": 41,
   "id": "e6c6dc82",
   "metadata": {},
   "outputs": [
    {
     "name": "stdout",
     "output_type": "stream",
     "text": [
      "Mr\n",
      "Mr\n",
      "Ms\n",
      "Mrs\n",
      "Mr\n"
     ]
    }
   ],
   "source": [
    "pattern = re.compile(r'(Mr|Ms|Mrs)\\.?\\s[A-Z]\\w*')\n",
    "matches = pattern.findall(text_to_search)\n",
    "for match in matches:\n",
    "    print(match)"
   ]
  },
  {
   "cell_type": "markdown",
   "id": "86fd6a00",
   "metadata": {},
   "source": [
    "### Match Method\n",
    "The match method checks for a match only at the beginning of the string. If the pattern matches at the start, it returns a match object; otherwise, it returns None."
   ]
  },
  {
   "cell_type": "code",
   "execution_count": 43,
   "id": "7cd9d8ba",
   "metadata": {},
   "outputs": [
    {
     "name": "stdout",
     "output_type": "stream",
     "text": [
      "Match result for text1: 123\n",
      "Match result for text2: No match\n"
     ]
    }
   ],
   "source": [
    "import re\n",
    "\n",
    "pattern = re.compile(r'\\d+')\n",
    "\n",
    "text1 = \"123abc\"\n",
    "text2 = \"abc123\"\n",
    "\n",
    "# Using match method\n",
    "match1 = pattern.match(text1)\n",
    "match2 = pattern.match(text2)\n",
    "\n",
    "print(f\"Match result for text1: {match1.group() if match1 else 'No match'}\")  # Output: 123\n",
    "print(f\"Match result for text2: {match2.group() if match2 else 'No match'}\")  # Output: No match"
   ]
  },
  {
   "cell_type": "code",
   "execution_count": 98,
   "id": "65a224f3",
   "metadata": {},
   "outputs": [],
   "source": [
    "#flags - re.IGNORECASE or use for re.I"
   ]
  },
  {
   "cell_type": "code",
   "execution_count": 46,
   "id": "5f446838",
   "metadata": {},
   "outputs": [
    {
     "name": "stdout",
     "output_type": "stream",
     "text": [
      "<re.Match object; span=(0, 3), match='123'>\n",
      "<re.Match object; span=(3, 6), match='123'>\n"
     ]
    }
   ],
   "source": [
    "import re\n",
    "\n",
    "pattern = re.compile(r'\\d+')\n",
    "\n",
    "text1 = \"123abc\"\n",
    "text2 = \"abc123\"\n",
    "\n",
    "# Using match method\n",
    "match1 = pattern.finditer(text1)\n",
    "match2 = pattern.finditer(text2)\n",
    "\n",
    "for i in match1:\n",
    "    print(i)\n",
    "    \n",
    "for i in match2:\n",
    "    print(i)"
   ]
  },
  {
   "cell_type": "markdown",
   "id": "7a93bcef",
   "metadata": {},
   "source": [
    "### search Method\n",
    "The search method scans through the entire string and returns the first match it finds. It returns a match object if there is a match anywhere in the string, otherwise None."
   ]
  },
  {
   "cell_type": "code",
   "execution_count": 47,
   "id": "7aac10f7",
   "metadata": {},
   "outputs": [
    {
     "name": "stdout",
     "output_type": "stream",
     "text": [
      "Search result for text1: 123\n",
      "Search result for text2: 123\n"
     ]
    }
   ],
   "source": [
    "import re\n",
    "\n",
    "pattern = re.compile(r'\\d+')\n",
    "\n",
    "text1 = \"123abc\"\n",
    "text2 = \"abc123\"\n",
    "\n",
    "# Using search method\n",
    "search1 = pattern.search(text1)\n",
    "search2 = pattern.search(text2)\n",
    "\n",
    "print(f\"Search result for text1: {search1.group() if search1 else 'No match'}\")  # Output: 123\n",
    "print(f\"Search result for text2: {search2.group() if search2 else 'No match'}\")  # Output: 123"
   ]
  },
  {
   "cell_type": "markdown",
   "id": "889c6974",
   "metadata": {},
   "source": [
    "### Finditer Method\n",
    "The finditer method returns an iterator yielding match objects for all non-overlapping matches of the pattern in the string.\n",
    "\n"
   ]
  },
  {
   "cell_type": "code",
   "execution_count": 48,
   "id": "87dec16c",
   "metadata": {},
   "outputs": [
    {
     "name": "stdout",
     "output_type": "stream",
     "text": [
      "Finditer match: 123 at position 0-3\n",
      "Finditer match: 456 at position 6-9\n",
      "Finditer match: 789 at position 12-15\n"
     ]
    }
   ],
   "source": [
    "import re\n",
    "\n",
    "pattern = re.compile(r'\\d+')\n",
    "\n",
    "text = \"123abc456def789\"\n",
    "\n",
    "# Using finditer method\n",
    "matches = pattern.finditer(text)\n",
    "\n",
    "for match in matches:\n",
    "    print(f\"Finditer match: {match.group()} at position {match.start()}-{match.end()}\")"
   ]
  },
  {
   "cell_type": "markdown",
   "id": "acdab2ab",
   "metadata": {},
   "source": [
    "### Explanation of the Examples:\n",
    "match Method:\n",
    "\n",
    "Behavior: Checks if the pattern matches from the beginning of the string.\n",
    "Example:\n",
    "text1: Matches because the string starts with digits (123).\n",
    "text2: Does not match because the string starts with letters (abc).\n",
    "search Method:\n",
    "\n",
    "Behavior: Searches the entire string and returns the first occurrence of the pattern.\n",
    "Example:\n",
    "text1: Finds 123 at the beginning.\n",
    "text2: Finds 123 after the letters (abc).\n",
    "finditer Method:\n",
    "\n",
    "Behavior: Finds all non-overlapping matches and returns them as an iterator of match objects.\n",
    "Example:\n",
    "text: Finds three matches: 123, 456, and 789.\n"
   ]
  },
  {
   "cell_type": "markdown",
   "id": "5872b66e",
   "metadata": {},
   "source": [
    "## Flags in regular expressions (regex) are special parameters that modify the behavior of the regex engine. They can be used to control how the pattern matching process is executed. Python's re module supports several flags that can be passed as optional parameters to regex functions. Here are some commonly used flags:\n",
    "\n",
    "re.IGNORECASE (re.I): Makes the pattern case-insensitive, so it matches both uppercase and lowercase letters.\n",
    "\n",
    "re.MULTILINE (re.M): Allows the ^ and $ anchors to match at the beginning and end of each line within a multiline string, rather than just at the beginning and end of the entire string.\n",
    "\n",
    "re.DOTALL (re.S): Makes the dot (.) metacharacter match all characters, including newline characters (\\n).\n",
    "\n",
    "re.ASCII: Makes \\w, \\W, \\b, \\B, \\d, \\D, \\s, and \\S perform ASCII-only matching, disregarding any Unicode characters.\n",
    "\n",
    "re.UNICODE (re.U): Makes \\w, \\W, \\b, \\B, \\d, \\D, \\s, and \\S perform Unicode matching.\n",
    "\n",
    "re.VERBOSE (re.X): Allows you to write regex patterns more legibly by ignoring whitespace and comments within the pattern. Whitespace within the pattern is ignored, except when in a character class or preceded by an unescaped backslash. Additionally, # marks the start of a comment, which lasts until the end of the line."
   ]
  },
  {
   "cell_type": "code",
   "execution_count": 50,
   "id": "40cad282",
   "metadata": {},
   "outputs": [
    {
     "name": "stdout",
     "output_type": "stream",
     "text": [
      "['Hello', 'Hello']\n"
     ]
    }
   ],
   "source": [
    "import re\n",
    "\n",
    "# Using flags with compile method\n",
    "pattern = re.compile(r'hello', re.IGNORECASE | re.MULTILINE)\n",
    "\n",
    "# Using flags with search method\n",
    "text = \"Hello, World!\\nHello, Universe!\"\n",
    "matches = pattern.findall(text)\n",
    "\n",
    "print(matches)  # Output: ['Hello', 'Hello']\n"
   ]
  },
  {
   "cell_type": "code",
   "execution_count": 51,
   "id": "21f647cd",
   "metadata": {},
   "outputs": [
    {
     "name": "stdout",
     "output_type": "stream",
     "text": [
      "DOTALL match: hello\n",
      "world\n"
     ]
    }
   ],
   "source": [
    "import re\n",
    "\n",
    "pattern = re.compile(r'hello.*world', re.DOTALL)\n",
    "\n",
    "text = \"hello\\nworld\"\n",
    "\n",
    "match = pattern.search(text)\n",
    "print(f\"DOTALL match: {match.group() if match else 'No match'}\")\n"
   ]
  },
  {
   "cell_type": "code",
   "execution_count": 52,
   "id": "582bb6cd",
   "metadata": {},
   "outputs": [
    {
     "name": "stdout",
     "output_type": "stream",
     "text": [
      "ASCII match: ['caf']\n"
     ]
    }
   ],
   "source": [
    "import re\n",
    "\n",
    "pattern = re.compile(r'\\w+', re.ASCII)\n",
    "\n",
    "text = \"café\"\n",
    "\n",
    "match = pattern.findall(text)\n",
    "print(f\"ASCII match: {match}\")\n"
   ]
  },
  {
   "cell_type": "code",
   "execution_count": 53,
   "id": "4db21b8b",
   "metadata": {},
   "outputs": [
    {
     "name": "stdout",
     "output_type": "stream",
     "text": [
      "UNICODE match: ['café']\n"
     ]
    }
   ],
   "source": [
    "import re\n",
    "\n",
    "pattern = re.compile(r'\\w+', re.UNICODE)\n",
    "\n",
    "text = \"café\"\n",
    "\n",
    "match = pattern.findall(text)\n",
    "print(f\"UNICODE match: {match}\")\n"
   ]
  },
  {
   "cell_type": "code",
   "execution_count": 54,
   "id": "7c0bab92",
   "metadata": {},
   "outputs": [
    {
     "name": "stdout",
     "output_type": "stream",
     "text": [
      "VERBOSE match: 123-45\n"
     ]
    }
   ],
   "source": [
    "import re\n",
    "\n",
    "pattern = re.compile(r'''\n",
    "    \\b      # Word boundary\n",
    "    \\d{3}   # Three digits\n",
    "    -       # Hyphen\n",
    "    \\d{2}   # Two digits\n",
    "    \\b      # Word boundary\n",
    "    ''', re.VERBOSE)\n",
    "\n",
    "text = \"Phone number: 123-45\"\n",
    "\n",
    "match = pattern.search(text)\n",
    "print(f\"VERBOSE match: {match.group() if match else 'No match'}\")\n"
   ]
  },
  {
   "cell_type": "code",
   "execution_count": 55,
   "id": "9c36f3a1",
   "metadata": {},
   "outputs": [
    {
     "name": "stdout",
     "output_type": "stream",
     "text": [
      "Combined flags match: Hello\n",
      "world\n"
     ]
    }
   ],
   "source": [
    "import re\n",
    "\n",
    "pattern = re.compile(r'''\n",
    "    ^hello      # Line starts with 'hello'\n",
    "    .*          # Any character (dot) zero or more times (greedy)\n",
    "    world$      # Line ends with 'world'\n",
    "    ''', re.IGNORECASE | re.MULTILINE | re.DOTALL | re.VERBOSE)\n",
    "\n",
    "text = \"Hello\\nworld\"\n",
    "\n",
    "match = pattern.search(text)\n",
    "print(f\"Combined flags match: {match.group() if match else 'No match'}\")\n"
   ]
  },
  {
   "cell_type": "code",
   "execution_count": null,
   "id": "23ddf9c4",
   "metadata": {},
   "outputs": [],
   "source": []
  }
 ],
 "metadata": {
  "kernelspec": {
   "display_name": "Python 3 (ipykernel)",
   "language": "python",
   "name": "python3"
  },
  "language_info": {
   "codemirror_mode": {
    "name": "ipython",
    "version": 3
   },
   "file_extension": ".py",
   "mimetype": "text/x-python",
   "name": "python",
   "nbconvert_exporter": "python",
   "pygments_lexer": "ipython3",
   "version": "3.10.9"
  }
 },
 "nbformat": 4,
 "nbformat_minor": 5
}
